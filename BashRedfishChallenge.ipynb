{
 "cells": [
  {
   "cell_type": "markdown",
   "metadata": {},
   "source": [
    "# Redfish Challenge: `Bash/cURL` response template\n",
    "\n",
    "Version: 0.11\n",
    "\n",
    "Use this Jupyter Notebook to develop your challenge response before using `git` to push ist in your own GitHub repository.\n",
    "\n",
    "You will find below environment variables necessary to produce your response. Run the next cell by pressing `Ctrl-Enter` or click on the triangle icon in the upper horizontal ribbon: <img src=\"Pictures/RunButton.png\" style=\"display:inline;width=55px;height=25px\"/>"
   ]
  },
  {
   "cell_type": "code",
   "execution_count": null,
   "metadata": {},
   "outputs": [],
   "source": [
    "# Bash environment variables\n",
    "\n",
    "# iLO 5 related variables\n",
    "iLO5IP=\"ilo5\"\n",
    "iLO5URI=\"https://${iLO5IP}\"\n",
    "\n",
    "iLO5User=\"student\"\n",
    "iLO5Password='P@ssw0rd!'\n",
    "\n",
    "# Minimum required Redfish headers\n",
    "HeaderODataVersion=\"OData-Version: 4.0\"\n",
    "HeaderContentType=\"Content-Type: application/json\"\n",
    "\n",
    "# Data files\n",
    "ResponseHeaders=\"ResponseHeaders.txt\"   # Used to hold HTTP response headers if needed\n",
    "SessionData=\"./CreateSession-data.json\" # Body/Workload used to create the Redfish session\n",
    "cat > ${SessionData} << __EOF__\n",
    "{\n",
    "        \"UserName\": \"$iLO5User\",\n",
    "        \"Password\": \"$iLO5Password\"\n",
    "}\n",
    "__EOF__\n",
    "\n",
    "\n",
    "echo \"Verifying that the remote iLO 5 is accessible on port 443 (HTTPS)\"\n",
    "nc -vz $iLO5IP 443 || echo -e \"\\nProblem: Ask for help in Slack\""
   ]
  },
  {
   "cell_type": "markdown",
   "metadata": {},
   "source": [
    "## Step1: \n",
    "\n",
    "From the `/redfish/v1` Redfish entry point, identify the [OData supported queries](https://www.odata.org/getting-started/basic-tutorial/#queryData) of this version of iLO 5."
   ]
  },
  {
   "cell_type": "code",
   "execution_count": null,
   "metadata": {},
   "outputs": [],
   "source": [
    "# Your code here"
   ]
  },
  {
   "cell_type": "markdown",
   "metadata": {},
   "source": [
    "## Step 2: Identify the `HpeServerDevice` URI using the [API Doc Ref document](https://hewlettpackard.github.io/ilo-rest-api-docs/ilo5/)\n",
    "\n",
    "In order to save time, and since this challenge is mainly focusing on `odata queries` and Redfish good practices, find in the documentation the `HpeServerDevice` resource location from which you'll be able to continue in this challenge."
   ]
  },
  {
   "cell_type": "code",
   "execution_count": null,
   "metadata": {},
   "outputs": [],
   "source": [
    "echo \"The 'HpeServerDevice' URI is at:   <Your answer here>\" "
   ]
  },
  {
   "cell_type": "markdown",
   "metadata": {},
   "source": [
    "## Step 3:\n",
    "\n",
    "Using previous answers, write your code to retrieve and list the Device Inventory of your iLO 5 as explained in the [StartHere.ipynb](../Start-Here.ipynb) companion notebook. If needed, get help from the [WKSHP-RedfishOverview](../WKSHP-RedfishOverview/1-Discover-RedfishBash.ipynb) notebook."
   ]
  },
  {
   "cell_type": "code",
   "execution_count": null,
   "metadata": {},
   "outputs": [],
   "source": [
    "# Your code here"
   ]
  },
  {
   "cell_type": "markdown",
   "metadata": {},
   "source": [
    "\n",
    "All done? Well done! It's now time to submit your reponse.\n",
    "\n"
   ]
  },
  {
   "cell_type": "markdown",
   "metadata": {},
   "source": [
    "## Submitting your response\n",
    "\n",
    "Perform the following GitHub steps to submit your response:\n",
    "\n",
    "    Step 1: Commit changes in your Jupyter environment using your Launcher terminal window.\n",
    "    Step 2: Push changes to your own GitHub repo using your Launcher terminal window.\n",
    "    Step 3: Open a Pull Request (PR) on our original repo (Provide your email in the description box so we can contact you)\n",
    "\n",
    "You should submit your response within the 4-hour time slot. We will reset all the Jupyter accounts right after the time is up, so make sure you have committed and pushed your changes back to your own GitHub repo prior to that. You will then have more time to submit your PR.\n",
    "\n",
    "## Looking for help?\n",
    "\n",
    "We have set up a [Slack channel](https://app.slack.com/client/T5SNJCC7K/C015CLE2QTT) in the HPE DEV Slack Workspace. Feel free to join the workspace then start asking questions there. We will be around to help you.\n",
    "\n",
    "Finally, in case of a real emergency, you can contact the [HPEDEV Team](mailto:hpedev@hpe.com)."
   ]
  },
  {
   "cell_type": "code",
   "execution_count": null,
   "metadata": {},
   "outputs": [],
   "source": []
  }
 ],
 "metadata": {
  "kernelspec": {
   "display_name": "Bash",
   "language": "bash",
   "name": "bash"
  },
  "language_info": {
   "codemirror_mode": "shell",
   "file_extension": ".sh",
   "mimetype": "text/x-sh",
   "name": "bash"
  }
 },
 "nbformat": 4,
 "nbformat_minor": 4
}
