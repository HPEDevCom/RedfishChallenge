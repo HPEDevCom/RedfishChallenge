{
 "cells": [
  {
   "cell_type": "markdown",
   "metadata": {},
   "source": [
    "![HPE Dev Logo](Pictures/hpe-dev-logo.png \"HPE DEV Hack Shack\")\n",
    "\n",
    "\n",
    "# Welcome to the DISCOVER Hack Shack Redfish Challenge\n",
    "\n",
    "Version 0.2\n",
    "\n",
    "## Challenge prerequisites\n",
    "\n",
    "We recommend you attend the following Discover Hack Shack workshops before attempting this challenge:\n",
    "\n",
    "1. Git 101\n",
    "2. Hack Shack W482: Introduction to Redfish API Use With PowerShell Python and Bash/cURL\n",
    "\n",
    "If you have not, make sure you leverage the notebooks provided in your Jupyter environement for reference. \n",
    "\n"
   ]
  },
  {
   "cell_type": "markdown",
   "metadata": {},
   "source": [
    "## Challenge description\n",
    "\n",
    "The goal of this challenge is to retrieve the information provided in the `System Information --> Device Inventory` view of an iLO 5 with a minimum number of Redfish GET requests in order to delegate a maximum of processing in the remote managed HPE iLO 5 Redfish engine.\n",
    "\n",
    "The following screenshot shows the `Device Inventory` list of a HPE DL360 Gen10 server.\n",
    "\n",
    "![Device Inventory from iLO GUI](Pictures/DeviceInventoryFromiLOGUI.png)\n",
    "\n",
    "In case of tied students, session authenticated programs will get a higher score. Programs implementing good Redfish practises, meaning crawling the Redfish tree to find the resources path instead of assuming a definite location will get, as well a higher score. For example, a program discovering the TBD\n",
    "\n",
    "The formating of the output is not a quality criteria; a raw JSON output is fine.   \n",
    "\n",
    "### Language choices:\n",
    "\n",
    "As we have a limited number of languages (kernels) installed in this Jupyter infra, please, use one of the following template:\n",
    "\n",
    "* [PowerShell](PowerShellRedfishChallenge.ipynb)\n",
    "* [Python](PythonRedfishChallenge)\n",
    "* [Bash/cURL](BashRedfishChallenge.ipynb)\n",
    "\n",
    "Each of the above template contains the necessary information to achieve your challenge (i.e. iLO 5 IP address, credentials...)\n",
    "\n"
   ]
  },
  {
   "cell_type": "markdown",
   "metadata": {},
   "source": [
    "## Fork the Challenge Repo\n",
    "\n",
    "We will leverage Git to distribute and collect responses for this challenge. This means that your reponse will be delivered via a Pull Request on the challenge notebook. To achieve this, you first need to fork the challenge repository at:\n",
    "\n",
    "[RedfishChallenge](https://github.com/HPEDevCom/RedfishChallenge.git)\n",
    "\n",
    "## Clone the repo locally \n",
    "\n",
    "Once you have a copy of the repo in your own GitHub account, you will have to clone a local copy into your Jupyter environement. To do this start a Terminal session from the Jupyter Launcher and use the Git CLI. \n",
    "\n",
    "## Work on your challenge\n",
    "\n",
    "Once the content of the repo is downloaded in your Jupyter account, open the notebook in Jupyter. It's now time for you to do real work :-)\n",
    "\n",
    "## Racing against the clock\n",
    "\n",
    "Remember that you are working against the clock here. You have 4 hours after we provided you access to the Jyputer account. If your time is running out, make sure you commit and push your changes to your copy of the repo in order to avoid loosing any work.\n",
    "\n"
   ]
  },
  {
   "cell_type": "markdown",
   "metadata": {},
   "source": [
    "# Step 1: Identify the `HpeServerDevice` URI using the [API Doc Ref document](https://hewlettpackard.github.io/ilo-rest-api-docs/ilo5/)\n",
    "\n",
    "The `HpeServerDevice` resource location TBD\n",
    "\n",
    "## Quizz question 1:\n",
    "\n",
    "Under which root point (Accounts, Chassis, Systems, Managers....) is located the ` HpeServerDevice` resource ?\n",
    "\n",
    "Answer: `Your response goes here`\n",
    "\n",
    "# Step 2: TBD\n",
    "\n",
    "TBD\n",
    "\n",
    "# Step 3: TBD\n",
    "\n",
    "TBD\n",
    "\n",
    "# Step 4: TBD\n",
    "\n",
    "TBD\n",
    "\n",
    "## Quizz Question 2\n",
    "\n",
    "TBD: `Your response goes here`\n",
    "\n",
    "# Step 5: TBD\n",
    "\n",
    "TBD\n",
    "\n",
    "## Quizz Question 3\n",
    "\n",
    "TBD: `Your response goes here`\n",
    "\n",
    "All done? Well done! It's now time to submit your reponse.\n",
    "\n",
    "## Submitting your response \n",
    "\n",
    "In order to submit your response to this challenge, we will ask you to use GitHub to return the modified version of the Jupyter Notebook.\n",
    "\n"
   ]
  },
  {
   "cell_type": "markdown",
   "metadata": {},
   "source": [
    "### Commit your changes to local repo\n",
    "\n",
    "Using the Launcher->Terminal session, commit changes locally \n",
    "\n",
    "### Push your changes to your GitHub account\n",
    "\n",
    "Push your change back to your Github account. \n",
    "\n",
    "### From your repo, submit a pull request to Challenge repo\n",
    "\n",
    "It's now time to submit your response back to the HPE Discover Challenge Repo. To do so, we ask you to submit a Pull Request (PR) from your GitHub account. Make sure an email is provided in the description of the PR so we can find you.\n",
    "\n",
    "## Wait for jury and/or try another challenge\n",
    "\n",
    "We will select a winner per Challenge. Stay tuned for the announcement at the end of HPE Discover Virtual Experience. There will also be a drawing amongst the ones completing all of our challenges, so... back to work! :-)\n",
    "\n",
    "# Congratulations for completing this Challenge!\n"
   ]
  },
  {
   "cell_type": "code",
   "execution_count": null,
   "metadata": {},
   "outputs": [],
   "source": []
  }
 ],
 "metadata": {
  "kernelspec": {
   "display_name": "Python 3",
   "language": "python",
   "name": "python3"
  },
  "language_info": {
   "codemirror_mode": {
    "name": "ipython",
    "version": 3
   },
   "file_extension": ".py",
   "mimetype": "text/x-python",
   "name": "python",
   "nbconvert_exporter": "python",
   "pygments_lexer": "ipython3",
   "version": "3.6.9"
  }
 },
 "nbformat": 4,
 "nbformat_minor": 4
}
