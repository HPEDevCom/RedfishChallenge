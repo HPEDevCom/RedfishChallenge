{
 "cells": [
  {
   "cell_type": "markdown",
   "metadata": {},
   "source": [
    "# Redfish Challenge: `Python` response template\n",
    "\n",
    "Version: 0.2\n",
    "\n",
    "Use this Jupyter Notebook to develop your challenge response before using `git` to push it in your own GitHub repository.\n",
    "\n",
    "Below, you will find the environment variables necessary to produce your response. Run the next cell by pressing `Ctrl-Enter` or click on the triangle icon in the upper horizontal ribbon: <img src=\"Pictures/RunButton.png\" style=\"display:inline;width=55px;height=25px\"/>"
   ]
  },
  {
   "cell_type": "code",
   "execution_count": null,
   "metadata": {},
   "outputs": [],
   "source": [
    "# -*- coding: utf-8 -*-\n",
    "\n",
    "import os\n",
    "import re\n",
    "import sys\n",
    "import json\n",
    "import redfish # Module sources at: https://github.com/DMTF/python-redfish-library/blob/master/src/redfish/rest/v1.py\n",
    "\n",
    "###########################################################################################################\n",
    "#\n",
    "# # Python environment variables\n",
    "#\n",
    "###########################################################################################################\n",
    "\n",
    "# iLO 5 related variables\n",
    "iLO5IP = \"ilo5\"\n",
    "base_url = \"https://\" + iLO5IP\n",
    "\n",
    "user=\"student\"\n",
    "Password = \"P@ssw0rd!\""
   ]
  },
  {
   "cell_type": "markdown",
   "metadata": {},
   "source": [
    "## Step1: Identify the OData supported queries by this iLO 5\n",
    "\n",
    "From the `/redfish/v1` Redfish entry point, identify the [OData supported queries](https://www.odata.org/getting-started/basic-tutorial/#queryData) of this version of iLO 5."
   ]
  },
  {
   "cell_type": "code",
   "execution_count": null,
   "metadata": {},
   "outputs": [],
   "source": [
    "# Your code here"
   ]
  },
  {
   "cell_type": "markdown",
   "metadata": {},
   "source": [
    "## Step 2: Identify the `HpeServerDevice` URI using the [API Doc Ref document](https://hewlettpackard.github.io/ilo-rest-api-docs/ilo5/)\n",
    "\n",
    "In order to save time, and since this challenge is mainly focused on `odata queries` and Redfish good practices, refer to the [documentation](https://hewlettpackard.github.io/ilo-rest-api-docs/ilo5/) to idenfity the `HpeServerDevice` resource location under which sits the requested device inventory properties."
   ]
  },
  {
   "cell_type": "code",
   "execution_count": null,
   "metadata": {},
   "outputs": [],
   "source": [
    "print (\"The 'HpeServerDevice' URI is at:   <Your answer here>\")"
   ]
  },
  {
   "cell_type": "markdown",
   "metadata": {},
   "source": [
    "## Step 3: \n",
    "\n",
    "Using your previous answers, write your code to have it retrieve and list the Device Inventory of your iLO 5, as explained in the [StartHere.ipynb](../Start-Here.ipynb) companion notebook. If needed, get help from the [WKSHP-RedfishOverview](../WKSHP-RedfishOverview/1-Discover-RedfishPython.ipynb) notebook."
   ]
  },
  {
   "cell_type": "code",
   "execution_count": null,
   "metadata": {},
   "outputs": [],
   "source": [
    "# Your code here"
   ]
  },
  {
   "cell_type": "markdown",
   "metadata": {},
   "source": [
    "Finished? Well done! It's now time to submit your response."
   ]
  },
  {
   "cell_type": "markdown",
   "metadata": {},
   "source": [
    "## Step 4: Submitting your response\n",
    "\n",
    "Perform the following GitHub steps to submit your response:\n",
    "\n",
    "    1: Commit changes in your Jupyter environment using your Launcher terminal window.\n",
    "    2: Push changes to your own GitHub repo using your Launcher terminal window.\n",
    "    3: Open a Pull Request (PR) on our original repo (Provide your email in the description box so we can contact you)\n",
    "\n",
    "You should submit your response within the 4-hour time slot. We will reset all the Jupyter accounts right after the time is up, so make sure you have committed and pushed your changes back to your own GitHub repo prior to that. You will then have more time to submit your PR.\n",
    "\n",
    "## Looking for help?\n",
    "\n",
    "We have set up a Slack channel in the HPE DEV Slack Workspace. Feel free to [join the workspace](https://slack.hpedev.io/) then [start asking questions there](https://hpedev.slack.com/archives/C015CLE2QTT). We will be around to help you.\n",
    "\n",
    "Finally, in case of a real emergency, you can contact the [HPEDEV Team](mailto:hpedev@hpe.com)."
   ]
  },
  {
   "cell_type": "code",
   "execution_count": null,
   "metadata": {},
   "outputs": [],
   "source": []
  }
 ],
 "metadata": {
  "kernelspec": {
   "display_name": "Python 3",
   "language": "python",
   "name": "python3"
  },
  "language_info": {
   "codemirror_mode": {
    "name": "ipython",
    "version": 3
   },
   "file_extension": ".py",
   "mimetype": "text/x-python",
   "name": "python",
   "nbconvert_exporter": "python",
   "pygments_lexer": "ipython3",
   "version": "3.6.9"
  }
 },
 "nbformat": 4,
 "nbformat_minor": 4
}
