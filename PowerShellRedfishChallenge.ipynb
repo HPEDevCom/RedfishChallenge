{
 "cells": [
  {
   "cell_type": "markdown",
   "metadata": {},
   "source": [
    "# Redfish Challenge: `PowerShell` response template\n",
    "\n",
    "Version 0.11"
   ]
  },
  {
   "cell_type": "code",
   "execution_count": 11,
   "metadata": {},
   "outputs": [
    {
     "name": "stdout",
     "output_type": "stream",
     "text": [
      "Can we reach the remote iLO 5 ?\n",
      "Answer:True\n"
     ]
    }
   ],
   "source": [
    "# PowerShell environment variables\n",
    "\n",
    "# iLO 5 related variables\n",
    "$iLO5IP = \"ilo5\"\n",
    "$iLO5URI = \"https://${iLO5IP}/redfish\"\n",
    "\n",
    "$user = \"student\"\n",
    "$pass = \"P@ssw0rd!\"\n",
    "\n",
    "# Convert the credentials to a base 64 encoded http Basic Auth \n",
    "$pair = \"${user}:${pass}\"\n",
    "$mybytes = [System.Text.Encoding]::ASCII.GetBytes($pair)\n",
    "$b64 = [System.Convert]::ToBase64String($mybytes)\n",
    "$basicAuthValue = \"Basic $b64\"\n",
    "$AuthHeaders = @{ Authorization = $basicAuthValue }\n",
    "\n",
    "echo \"Can we reach the remote iLO 5 ?\" \n",
    "Write-Host \"Answer:\" -NoNewLine\n",
    "Test-Connection -ComputerName $iLO5IP -TcpPort 443"
   ]
  },
  {
   "cell_type": "markdown",
   "metadata": {},
   "source": [
    "## Step1: \n",
    "\n",
    "TBD"
   ]
  },
  {
   "cell_type": "code",
   "execution_count": 4,
   "metadata": {},
   "outputs": [
    {
     "name": "stdout",
     "output_type": "stream",
     "text": [
      "Attempting HTTP GET @ \n",
      "                                                                                                                                                                                                                                                                                                                                                                                                                                                                                                                                                                                                                                                                \n",
      "StatusCode        : 200\n",
      "StatusDescription : OK\n",
      "Content           : {\"v1\": \"/redfish/v1/\"}\n",
      "RawContent        : HTTP/1.1 200 OK\n",
      "                    Date: Fri, 19 Jun 2020 15:16:50 GMT\n",
      "                    OData-Version: 4.0\n",
      "                    X-Frame-Options: sameorigin\n",
      "                    Content-Type: application/json\n",
      "                    Content-Length: 22\n",
      "                    \n",
      "                    {\"v1\": \"/redfish/v1/\"}\n",
      "Headers           : {[Date, System.String[]], [OData-Version, \n",
      "                    System.String[]], [X-Frame-Options, System.String[]], \n",
      "                    [Content-Type, System.String[]]…}\n",
      "Images            : {}\n",
      "InputFields       : {}\n",
      "Links             : {}\n",
      "RawContentLength  : 22\n",
      "RelationLink      : {}\n",
      "\n",
      "\n"
     ]
    }
   ],
   "source": [
    "# Your code here\n",
    "echo \"Attempting HTTP GET @ $iLOURI\"\n",
    "# HTTP GET\n",
    "Invoke-WebRequest -SkipCertificateCheck -Uri $iLO5URI -Method 'GET' -ErrorAction Stop\n",
    "\n",
    "# Format the JSON Body Response\n",
    "#ConvertFrom-Json $r.Content "
   ]
  },
  {
   "cell_type": "markdown",
   "metadata": {},
   "source": [
    "# Step2:\n",
    "\n",
    "TBD"
   ]
  },
  {
   "cell_type": "code",
   "execution_count": null,
   "metadata": {},
   "outputs": [],
   "source": [
    "echo \"The 'HpeServerDevice' URI is at:   <Your answer here>\""
   ]
  },
  {
   "cell_type": "markdown",
   "metadata": {},
   "source": [
    "## Step 3:\n",
    "\n",
    "TBD If needed, get help from the [WKSHP-RedfishOverview](../WKSHP-RedfishOverview/2-Discover-RedfishPowerShell.ipynb) notebook."
   ]
  },
  {
   "cell_type": "code",
   "execution_count": null,
   "metadata": {},
   "outputs": [],
   "source": [
    "# Your code here"
   ]
  },
  {
   "cell_type": "markdown",
   "metadata": {},
   "source": [
    "All done? Well done! It's now time to submit your reponse."
   ]
  },
  {
   "cell_type": "markdown",
   "metadata": {},
   "source": [
    "## Submitting your response\n",
    "\n",
    "TBD"
   ]
  }
 ],
 "metadata": {
  "kernelspec": {
   "display_name": "PowerShell",
   "language": "powershell",
   "name": "powershell"
  },
  "language_info": {
   "codemirror_mode": "shell",
   "file_extension": ".ps1",
   "mimetype": "text/x-sh",
   "name": "powershell"
  }
 },
 "nbformat": 4,
 "nbformat_minor": 4
}
